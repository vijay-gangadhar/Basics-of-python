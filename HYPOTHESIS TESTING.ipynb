{
 "cells": [
  {
   "cell_type": "code",
   "execution_count": 1,
   "id": "24893745",
   "metadata": {},
   "outputs": [
    {
     "data": {
      "text/plain": [
       "'H0 : W<=1000+5X\\n   H1: W >1000+5X'"
      ]
     },
     "execution_count": 1,
     "metadata": {},
     "output_type": "execute_result"
    }
   ],
   "source": [
    "#Objective:\n",
    "'''To investigate the restaurant owners' claim about the \n",
    "increase in weekly operating costs using hypothesis testing.'''\n",
    "\n",
    "## Since there is only one population set , we are using right one sample z test \n",
    "\n",
    "###1. State the Hypotheses statement:\n",
    "\"\"\"H0 : W<=1000+5X\n",
    "   H1: W >1000+5X\"\"\"\n",
    "   "
   ]
  },
  {
   "cell_type": "code",
   "execution_count": 2,
   "id": "0f02a9c5",
   "metadata": {},
   "outputs": [
    {
     "data": {
      "text/plain": [
       "-38.0"
      ]
     },
     "execution_count": 2,
     "metadata": {},
     "output_type": "execute_result"
    }
   ],
   "source": [
    "#2. Calculate the Test Statistic:\n",
    "'''Use the following formula to calculate the test statistic (t):\n",
    "   t = (ˉxˉ- μ)/(σ/√n) \n",
    "where:\n",
    "•\tˉxˉ = sample mean weekly cost (Rs. 3,050)\n",
    "•\tμ = theoretical mean weekly cost according to the cost model (W = $1,000 + $5X for X = 600 units)\n",
    "•\tσ = 5*25 units\n",
    "•\tn = sample size (25 restaurants)'''\n",
    "\n",
    "\n",
    "sample_mean=3050\n",
    "theoritical_mean=4000\n",
    "standard_deviation=125\n",
    "sample_size=25\n",
    "\n",
    "Z_calculated=(sample_mean-theoritical_mean)/(standard_deviation/(sample_size)**(1/2))\n",
    "Z_calculated"
   ]
  },
  {
   "cell_type": "code",
   "execution_count": 3,
   "id": "6e1444a4",
   "metadata": {},
   "outputs": [
    {
     "data": {
      "text/plain": [
       "1.6448536269514722"
      ]
     },
     "execution_count": 3,
     "metadata": {},
     "output_type": "execute_result"
    }
   ],
   "source": [
    "#3. Determine the Critical Value:\n",
    "'''Using the alpha level of 5% (α = 0.05), \n",
    "determine the critical value from the standard normal (Z) distribution table.'''\n",
    "\n",
    "import scipy.stats as stats\n",
    "\n",
    "# Significance level\n",
    "alpha = 0.05\n",
    "\n",
    "# Calculate the critical Z-value for a right one-tailed test\n",
    "critical_value = stats.norm.ppf(1-alpha)\n",
    "critical_value"
   ]
  },
  {
   "cell_type": "code",
   "execution_count": 4,
   "id": "f0336f27",
   "metadata": {},
   "outputs": [
    {
     "name": "stdout",
     "output_type": "stream",
     "text": [
      "Ho is accepted and H1 is rejected\n"
     ]
    }
   ],
   "source": [
    "#4. Make a Decision:\n",
    "'''Compare the test statistic with the critical value to decide \n",
    "whether to reject the null hypothesis.'''\n",
    "\n",
    "\n",
    "''' If Z calculated value falls under critical region\n",
    "    (i.e.,Z calculated greater than critical value since it is right one sample z test),\n",
    "                                                 Ho is rejected and H1 is accepted.\n",
    "    If Z calculated value falls under accepted region, Ho is accepted and H1 is rejected.'''\n",
    "\n",
    "if Z_calculated > critical_value:\n",
    "    print(\"Ho is rejected and H1 is accepted\")\n",
    "else:\n",
    "    print(\"Ho is accepted and H1 is rejected\")"
   ]
  },
  {
   "cell_type": "code",
   "execution_count": 5,
   "id": "1c6f47c2",
   "metadata": {},
   "outputs": [
    {
     "data": {
      "text/plain": [
       "\"Based on the statistical values,we can conclude that \\nthere is no evidence to support the restaurant owners' claim \\nthat the weekly operating costs are higher than the model suggests.\""
      ]
     },
     "execution_count": 5,
     "metadata": {},
     "output_type": "execute_result"
    }
   ],
   "source": [
    "#5. Conclusion:\n",
    "'''Based on the statistical values,we can conclude that \n",
    "there is no evidence to support the restaurant owners' claim \n",
    "that the weekly operating costs are higher than the model suggests.'''\n"
   ]
  },
  {
   "cell_type": "code",
   "execution_count": null,
   "id": "3db1b071",
   "metadata": {},
   "outputs": [],
   "source": []
  }
 ],
 "metadata": {
  "kernelspec": {
   "display_name": "Python 3 (ipykernel)",
   "language": "python",
   "name": "python3"
  },
  "language_info": {
   "codemirror_mode": {
    "name": "ipython",
    "version": 3
   },
   "file_extension": ".py",
   "mimetype": "text/x-python",
   "name": "python",
   "nbconvert_exporter": "python",
   "pygments_lexer": "ipython3",
   "version": "3.11.5"
  }
 },
 "nbformat": 4,
 "nbformat_minor": 5
}
