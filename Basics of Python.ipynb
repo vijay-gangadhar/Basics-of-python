{
 "cells": [
  {
   "cell_type": "code",
   "execution_count": 1,
   "id": "a0f4bee0",
   "metadata": {},
   "outputs": [
    {
     "name": "stdout",
     "output_type": "stream",
     "text": [
      "Enter the given number: 19\n",
      "The given number is  prime number\n"
     ]
    }
   ],
   "source": [
    "#Exercise 1: Prime Numbers\n",
    "#Write a Python program that checks whether a given number is prime or not.\n",
    "#A prime number is a natural number greater than 1 that has no positive divisors other than 1 and itself.\n",
    "\n",
    "\n",
    "#Taking the input number\n",
    "n=int(input(\"Enter the given number: \"))\n",
    "#creating a variable to count the factors of the given number\n",
    "c=0\n",
    "#using the \"for loop\" to find out whether the given number has other factors and \n",
    "#breaking the loop if it has other factors other than 1 and itself. \n",
    "for i in range(2,n):\n",
    "    if n%i==0:\n",
    "        c+=1\n",
    "        break\n",
    "#declaring the number is not prime if it has other factors or the number itself is 1 or less than it.\n",
    "if c==1 or n<=1:\n",
    "    print(\"The given number is not the prime number\")\n",
    "else:\n",
    "    print(\"The given number is  prime number\")"
   ]
  },
  {
   "cell_type": "code",
   "execution_count": 2,
   "id": "d0788d0d",
   "metadata": {},
   "outputs": [
    {
     "name": "stdout",
     "output_type": "stream",
     "text": [
      "The random numbers are  56 53\n",
      "Enter the product of the numbers: 2968\n",
      "The entered product is Correct\n"
     ]
    }
   ],
   "source": [
    "#Exercise 2: Product of Random Numbers\n",
    "#Develop a Python program that generates two random numbers and \n",
    "#asks the user to enter the product of these numbers.\n",
    "#The program should then check if the user's answer is correct and display an appropriate message.\n",
    "\n",
    "#importing random library\n",
    "import random\n",
    "#declaring to random numbers between 1 and 100\n",
    "n1=random.randint(1,100)\n",
    "n2=random.randint(1,100)\n",
    "print(\"The random numbers are \",n1,n2)\n",
    "#input for user's answer\n",
    "k=int(input(\"Enter the product of the numbers: \"))\n",
    "#verifying user's product to original product.\n",
    "if k==(n1*n2):\n",
    "    print(\"The entered product is Correct\")\n",
    "else:\n",
    "    print(\"The entered product is Incorrect\")"
   ]
  },
  {
   "cell_type": "code",
   "execution_count": 3,
   "id": "cb2fca59",
   "metadata": {},
   "outputs": [
    {
     "name": "stdout",
     "output_type": "stream",
     "text": [
      "The squares of all odd numbers within range of 100 to 200 are \n",
      "[10201, 10609, 11025, 11449, 11881, 12321, 12769, 13225, 13689, 14161, 14641, 15129, 15625, 16129, 16641, 17161, 17689, 18225, 18769, 19321, 19881, 20449, 21025, 21609, 22201, 22801, 23409, 24025, 24649, 25281, 25921, 26569, 27225, 27889, 28561, 29241, 29929, 30625, 31329, 32041, 32761, 33489, 34225, 34969, 35721, 36481, 37249, 38025, 38809, 39601]\n"
     ]
    }
   ],
   "source": [
    "#Exercise 3: Squares of Even/Odd Numbers\n",
    "#Create a Python script that prints the squares of all even or odd numbers within the range of 100 to 200.\n",
    "#Choose either even or odd numbers and document your choice in the code.\n",
    "\n",
    "#Declaring empty list for odd numbers\n",
    "odd=[]\n",
    "#Appending  the odd numbers to empty odd number list\n",
    "for i in range(100,200):\n",
    "    if i%2!=0:\n",
    "        odd.append(i)\n",
    "#creating a list for appending squares of the odd numbers.\n",
    "res=list(i**2 for i in odd)\n",
    "print(\"The squares of all odd numbers within range of 100 to 200 are \")\n",
    "print(res)"
   ]
  },
  {
   "cell_type": "code",
   "execution_count": 4,
   "id": "4be2b914",
   "metadata": {},
   "outputs": [
    {
     "name": "stdout",
     "output_type": "stream",
     "text": [
      "Enter the text: This is the sample text . This sample text is used to demonstrate the word counter .\n",
      "The count of the number of words are: {'is': 2, 'to': 1, 'word': 1, 'text': 2, '.': 2, 'This': 2, 'demonstrate': 1, 'sample': 2, 'counter': 1, 'used': 1, 'the': 2}\n"
     ]
    }
   ],
   "source": [
    "#Exercise 4: Word counter\n",
    "#write a program to count the number of words in a given text.\n",
    "\n",
    "#Taking the input text \n",
    "text=input(\"Enter the text: \")\n",
    "#spliting the text into list of words\n",
    "l=text.split()\n",
    "#Creating the empty dictionary\n",
    "res=dict()\n",
    "#counting the frequency of words for the set of wordlist. \n",
    "for i in set(l):\n",
    "    res[i]=l.count(i)\n",
    "#printing the each word count\n",
    "print(\"The count of the number of words are: \" + str(res))\n"
   ]
  },
  {
   "cell_type": "code",
   "execution_count": 5,
   "id": "634152a6",
   "metadata": {},
   "outputs": [
    {
     "name": "stdout",
     "output_type": "stream",
     "text": [
      "Enter the input string: racecar\n",
      "True\n"
     ]
    }
   ],
   "source": [
    "#Write a Python function called is_palindrome that takes a string as input \n",
    "#and returns True if the string is a palindrome, and False otherwise.\n",
    "#A palindrome is a word, phrase, number, or other sequence of characters that reads \n",
    "#the same forward and backward, ignoring spaces, punctuation, and capitalization.\n",
    "\n",
    "#Defining a function for finding the given number is palindrome or not.\n",
    "def is_palindrome(string):\n",
    "    #storing the length of the string\n",
    "    l=len(string)\n",
    "    #checking whether the elements are same from beggining and end respectively.\n",
    "    for i in range(len(string)//2):\n",
    "        if string[i]!=string[l-i-1]:\n",
    "            return False\n",
    "            break\n",
    "    return True\n",
    "\n",
    "string=input(\"Enter the input string: \")\n",
    "#checking the output from the function is true or false\n",
    "if is_palindrome(string):\n",
    "    print(\"True\")\n",
    "else:\n",
    "    print(\"False\")"
   ]
  },
  {
   "cell_type": "code",
   "execution_count": null,
   "id": "07bd2153",
   "metadata": {},
   "outputs": [],
   "source": []
  }
 ],
 "metadata": {
  "kernelspec": {
   "display_name": "Python 3 (ipykernel)",
   "language": "python",
   "name": "python3"
  },
  "language_info": {
   "codemirror_mode": {
    "name": "ipython",
    "version": 3
   },
   "file_extension": ".py",
   "mimetype": "text/x-python",
   "name": "python",
   "nbconvert_exporter": "python",
   "pygments_lexer": "ipython3",
   "version": "3.11.5"
  }
 },
 "nbformat": 4,
 "nbformat_minor": 5
}
