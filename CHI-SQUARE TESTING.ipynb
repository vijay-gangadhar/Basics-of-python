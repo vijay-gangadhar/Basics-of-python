{
 "cells": [
  {
   "cell_type": "code",
   "execution_count": 1,
   "id": "fc1e8266",
   "metadata": {},
   "outputs": [
    {
     "data": {
      "text/plain": [
       "'Ho:  variables are independent (No relationship)\\nH1:  variables are dependent (having relationship)'"
      ]
     },
     "execution_count": 1,
     "metadata": {},
     "output_type": "execute_result"
    }
   ],
   "source": [
    "#OBJECTIVE\n",
    "'''To use the Chi-Square test for independence to determine \n",
    "if there's a significant association between the type of \n",
    "smart home device purchased (Smart Thermostats vs. Smart Lights) \n",
    "and the customer satisfaction level.'''\n",
    "\n",
    "#ASSIGNMENTS TASKS\n",
    "\n",
    "#1. State the Hypotheses:\n",
    "'''Ho:  variables are independent (No relationship)\n",
    "H1:  variables are dependent (having relationship)'''\n"
   ]
  },
  {
   "cell_type": "code",
   "execution_count": 2,
   "id": "e2311f2a",
   "metadata": {},
   "outputs": [
    {
     "data": {
      "text/html": [
       "<div>\n",
       "<style scoped>\n",
       "    .dataframe tbody tr th:only-of-type {\n",
       "        vertical-align: middle;\n",
       "    }\n",
       "\n",
       "    .dataframe tbody tr th {\n",
       "        vertical-align: top;\n",
       "    }\n",
       "\n",
       "    .dataframe thead th {\n",
       "        text-align: right;\n",
       "    }\n",
       "</style>\n",
       "<table border=\"1\" class=\"dataframe\">\n",
       "  <thead>\n",
       "    <tr style=\"text-align: right;\">\n",
       "      <th></th>\n",
       "      <th>Satisfaction</th>\n",
       "      <th>Smart Thermostat</th>\n",
       "      <th>Smart Light</th>\n",
       "      <th>Total</th>\n",
       "    </tr>\n",
       "  </thead>\n",
       "  <tbody>\n",
       "    <tr>\n",
       "      <th>0</th>\n",
       "      <td>Very Satisfied</td>\n",
       "      <td>50</td>\n",
       "      <td>70</td>\n",
       "      <td>120</td>\n",
       "    </tr>\n",
       "    <tr>\n",
       "      <th>1</th>\n",
       "      <td>Satisfied</td>\n",
       "      <td>80</td>\n",
       "      <td>100</td>\n",
       "      <td>180</td>\n",
       "    </tr>\n",
       "    <tr>\n",
       "      <th>2</th>\n",
       "      <td>Neutral</td>\n",
       "      <td>60</td>\n",
       "      <td>90</td>\n",
       "      <td>150</td>\n",
       "    </tr>\n",
       "    <tr>\n",
       "      <th>3</th>\n",
       "      <td>Unsatisfied</td>\n",
       "      <td>30</td>\n",
       "      <td>50</td>\n",
       "      <td>80</td>\n",
       "    </tr>\n",
       "    <tr>\n",
       "      <th>4</th>\n",
       "      <td>Very Unsatisfied</td>\n",
       "      <td>20</td>\n",
       "      <td>50</td>\n",
       "      <td>70</td>\n",
       "    </tr>\n",
       "  </tbody>\n",
       "</table>\n",
       "</div>"
      ],
      "text/plain": [
       "       Satisfaction  Smart Thermostat  Smart Light  Total\n",
       "0    Very Satisfied                50           70    120\n",
       "1         Satisfied                80          100    180\n",
       "2           Neutral                60           90    150\n",
       "3       Unsatisfied                30           50     80\n",
       "4  Very Unsatisfied                20           50     70"
      ]
     },
     "execution_count": 2,
     "metadata": {},
     "output_type": "execute_result"
    }
   ],
   "source": [
    "#importing the pandas library as pd\n",
    "import pandas as pd\n",
    "#Intializing the data of lists\n",
    "data = {'Satisfaction':['Very Satisfied','Satisfied','Neutral','Unsatisfied','Very Unsatisfied'],\n",
    "        'Smart Thermostat': [50,80,60,30,20],\n",
    "        'Smart Light': [70,100,90,50,50],\n",
    "        'Total':[120,180,150,80,70]}\n",
    " \n",
    "# Creating DataFrame of data\n",
    "df = pd.DataFrame(data)\n",
    "df"
   ]
  },
  {
   "cell_type": "code",
   "execution_count": 3,
   "id": "80a49756",
   "metadata": {},
   "outputs": [
    {
     "data": {
      "text/html": [
       "<div>\n",
       "<style scoped>\n",
       "    .dataframe tbody tr th:only-of-type {\n",
       "        vertical-align: middle;\n",
       "    }\n",
       "\n",
       "    .dataframe tbody tr th {\n",
       "        vertical-align: top;\n",
       "    }\n",
       "\n",
       "    .dataframe thead tr th {\n",
       "        text-align: left;\n",
       "    }\n",
       "\n",
       "    .dataframe thead tr:last-of-type th {\n",
       "        text-align: right;\n",
       "    }\n",
       "</style>\n",
       "<table border=\"1\" class=\"dataframe\">\n",
       "  <thead>\n",
       "    <tr>\n",
       "      <th></th>\n",
       "      <th colspan=\"5\" halign=\"left\">Smart Light</th>\n",
       "    </tr>\n",
       "    <tr>\n",
       "      <th>Smart Light</th>\n",
       "      <th>50</th>\n",
       "      <th>70</th>\n",
       "      <th>90</th>\n",
       "      <th>100</th>\n",
       "      <th>All</th>\n",
       "    </tr>\n",
       "    <tr>\n",
       "      <th>Smart Thermostat</th>\n",
       "      <th></th>\n",
       "      <th></th>\n",
       "      <th></th>\n",
       "      <th></th>\n",
       "      <th></th>\n",
       "    </tr>\n",
       "  </thead>\n",
       "  <tbody>\n",
       "    <tr>\n",
       "      <th>20</th>\n",
       "      <td>1</td>\n",
       "      <td>0</td>\n",
       "      <td>0</td>\n",
       "      <td>0</td>\n",
       "      <td>1</td>\n",
       "    </tr>\n",
       "    <tr>\n",
       "      <th>30</th>\n",
       "      <td>1</td>\n",
       "      <td>0</td>\n",
       "      <td>0</td>\n",
       "      <td>0</td>\n",
       "      <td>1</td>\n",
       "    </tr>\n",
       "    <tr>\n",
       "      <th>50</th>\n",
       "      <td>0</td>\n",
       "      <td>1</td>\n",
       "      <td>0</td>\n",
       "      <td>0</td>\n",
       "      <td>1</td>\n",
       "    </tr>\n",
       "    <tr>\n",
       "      <th>60</th>\n",
       "      <td>0</td>\n",
       "      <td>0</td>\n",
       "      <td>1</td>\n",
       "      <td>0</td>\n",
       "      <td>1</td>\n",
       "    </tr>\n",
       "    <tr>\n",
       "      <th>80</th>\n",
       "      <td>0</td>\n",
       "      <td>0</td>\n",
       "      <td>0</td>\n",
       "      <td>1</td>\n",
       "      <td>1</td>\n",
       "    </tr>\n",
       "    <tr>\n",
       "      <th>All</th>\n",
       "      <td>2</td>\n",
       "      <td>1</td>\n",
       "      <td>1</td>\n",
       "      <td>1</td>\n",
       "      <td>5</td>\n",
       "    </tr>\n",
       "  </tbody>\n",
       "</table>\n",
       "</div>"
      ],
      "text/plain": [
       "                 Smart Light              \n",
       "Smart Light               50 70 90 100 All\n",
       "Smart Thermostat                          \n",
       "20                         1  0  0   0   1\n",
       "30                         1  0  0   0   1\n",
       "50                         0  1  0   0   1\n",
       "60                         0  0  1   0   1\n",
       "80                         0  0  0   1   1\n",
       "All                        2  1  1   1   5"
      ]
     },
     "execution_count": 3,
     "metadata": {},
     "output_type": "execute_result"
    }
   ],
   "source": [
    "#2. Compute the Chi-Square Statistic:\n",
    "import researchpy as rp\n",
    "table,results=rp.crosstab(df['Smart Thermostat'],df['Smart Light'],test='chi-square')\n",
    "table"
   ]
  },
  {
   "cell_type": "code",
   "execution_count": 4,
   "id": "922d7009",
   "metadata": {},
   "outputs": [
    {
     "data": {
      "text/html": [
       "<div>\n",
       "<style scoped>\n",
       "    .dataframe tbody tr th:only-of-type {\n",
       "        vertical-align: middle;\n",
       "    }\n",
       "\n",
       "    .dataframe tbody tr th {\n",
       "        vertical-align: top;\n",
       "    }\n",
       "\n",
       "    .dataframe thead th {\n",
       "        text-align: right;\n",
       "    }\n",
       "</style>\n",
       "<table border=\"1\" class=\"dataframe\">\n",
       "  <thead>\n",
       "    <tr style=\"text-align: right;\">\n",
       "      <th></th>\n",
       "      <th>Chi-square test</th>\n",
       "      <th>results</th>\n",
       "    </tr>\n",
       "  </thead>\n",
       "  <tbody>\n",
       "    <tr>\n",
       "      <th>0</th>\n",
       "      <td>Pearson Chi-square ( 12.0) =</td>\n",
       "      <td>15.0000</td>\n",
       "    </tr>\n",
       "    <tr>\n",
       "      <th>1</th>\n",
       "      <td>p-value =</td>\n",
       "      <td>0.2414</td>\n",
       "    </tr>\n",
       "    <tr>\n",
       "      <th>2</th>\n",
       "      <td>Cramer's V =</td>\n",
       "      <td>1.0000</td>\n",
       "    </tr>\n",
       "  </tbody>\n",
       "</table>\n",
       "</div>"
      ],
      "text/plain": [
       "                 Chi-square test  results\n",
       "0  Pearson Chi-square ( 12.0) =   15.0000\n",
       "1                     p-value =    0.2414\n",
       "2                  Cramer's V =    1.0000"
      ]
     },
     "execution_count": 4,
     "metadata": {},
     "output_type": "execute_result"
    }
   ],
   "source": [
    "results"
   ]
  },
  {
   "cell_type": "code",
   "execution_count": 5,
   "id": "5556183b",
   "metadata": {},
   "outputs": [
    {
     "data": {
      "text/plain": [
       "9.4877"
      ]
     },
     "execution_count": 5,
     "metadata": {},
     "output_type": "execute_result"
    }
   ],
   "source": [
    "#3. Determine the Critical Value:\n",
    "'''Using the significance level (alpha) of 0.05 and \n",
    "the degrees of freedom (which is the number of categories minus 1)'''\n",
    "\n",
    "#number of catagories =5 ===>> degrees of freedom =5-1=4\n",
    "\n",
    "import scipy.stats as stats\n",
    "crit = stats.chi2.ppf(q = 0.95, df = 4)\n",
    "crit.round(4)"
   ]
  },
  {
   "cell_type": "code",
   "execution_count": 6,
   "id": "203431e0",
   "metadata": {},
   "outputs": [
    {
     "name": "stdout",
     "output_type": "stream",
     "text": [
      "Ho is accepted and H1 is rejected\n"
     ]
    }
   ],
   "source": [
    "#4. Make a Decision:\n",
    "'''Compare the Chi-Square statistic with the critical value to \n",
    "decide whether to reject the null hypothesis.'''\n",
    "\n",
    "Chisquare_statistic = 15.0000\n",
    "Critical_value = 9.4877\n",
    "\n",
    "if Chisquare_statistic < Critical_value :\n",
    "    print(\"Ho is rejected and H1 is accepted\")\n",
    "else:\n",
    "    print(\"Ho is accepted and H1 is rejected\")"
   ]
  },
  {
   "cell_type": "code",
   "execution_count": 7,
   "id": "34e3a39b",
   "metadata": {},
   "outputs": [
    {
     "data": {
      "text/plain": [
       "'  We have statistical evidence to claim that there is no Association/relationship / dependency \\nexisting between the type of smart home device purchased\\n(Smart Thermostats vs. Smart Lights) and the customer satisfaction level.  '"
      ]
     },
     "execution_count": 7,
     "metadata": {},
     "output_type": "execute_result"
    }
   ],
   "source": [
    "#CONCLUSION:\n",
    "'''  We have statistical evidence to claim that there is no Association/relationship / dependency \n",
    "existing between the type of smart home device purchased\n",
    "(Smart Thermostats vs. Smart Lights) and the customer satisfaction level.  '''"
   ]
  }
 ],
 "metadata": {
  "kernelspec": {
   "display_name": "Python 3 (ipykernel)",
   "language": "python",
   "name": "python3"
  },
  "language_info": {
   "codemirror_mode": {
    "name": "ipython",
    "version": 3
   },
   "file_extension": ".py",
   "mimetype": "text/x-python",
   "name": "python",
   "nbconvert_exporter": "python",
   "pygments_lexer": "ipython3",
   "version": "3.11.5"
  }
 },
 "nbformat": 4,
 "nbformat_minor": 5
}
